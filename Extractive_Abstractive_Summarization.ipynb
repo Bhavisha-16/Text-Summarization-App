{
  "nbformat": 4,
  "nbformat_minor": 0,
  "metadata": {
    "colab": {
      "provenance": []
    },
    "kernelspec": {
      "name": "python3",
      "display_name": "Python 3"
    },
    "language_info": {
      "name": "python"
    }
  },
  "cells": [
    {
      "cell_type": "markdown",
      "source": [
        "STORY: There was once a boy who grew up in a wealthy family. His father took him on a trip to show how less fortunate people lived. They stayed on a poor family’s farm, helping with their work. Afterward, the father asked his son what he learned. Surprisingly, the boy said the poor family was lucky. He compared their simple yet fulfilling life to his own, noting their abundance in companionship, nature, and self-sufficiency. The boy realized that wealth is not just about money but also about happiness, relationships, and freedom."
      ],
      "metadata": {
        "id": "DPXtjDe9amTP"
      }
    },
    {
      "cell_type": "markdown",
      "source": [
        "PARAGRAPH: Technology is the application of scientific knowledge to develop tools, systems, and processes that improve human life. It has transformed communication, healthcare, education, and industries, making tasks more efficient and accessible.\n",
        "\n",
        "The internet has revolutionized how people connect, while artificial intelligence and automation are reshaping industries by increasing productivity. In healthcare, technologies like telemedicine and robotic surgeries have enhanced medical treatments. Renewable energy solutions, such as solar and wind power, address environmental concerns by reducing dependence on fossil fuels.\n",
        "\n",
        "However, technology also brings challenges like cybersecurity threats, data privacy concerns, and job displacement due to automation. Ethical considerations regarding AI and biotechnology are becoming increasingly important.\n",
        "\n",
        "Despite these challenges, technology continues to drive innovation and progress. When used responsibly, it has the potential to solve global issues such as climate change and disease control, shaping a more advanced and sustainable future for humanity."
      ],
      "metadata": {
        "id": "qEj_6w0Pa6X2"
      }
    },
    {
      "cell_type": "code",
      "source": [
        "!pip install sumy"
      ],
      "metadata": {
        "colab": {
          "base_uri": "https://localhost:8080/"
        },
        "id": "D7VON6fibvqe",
        "outputId": "94c5bfe6-8d7c-44e7-dfee-426b58473c99"
      },
      "execution_count": 2,
      "outputs": [
        {
          "output_type": "stream",
          "name": "stdout",
          "text": [
            "Collecting sumy\n",
            "  Downloading sumy-0.11.0-py2.py3-none-any.whl.metadata (7.5 kB)\n",
            "Collecting docopt<0.7,>=0.6.1 (from sumy)\n",
            "  Downloading docopt-0.6.2.tar.gz (25 kB)\n",
            "  Preparing metadata (setup.py) ... \u001b[?25l\u001b[?25hdone\n",
            "Collecting breadability>=0.1.20 (from sumy)\n",
            "  Downloading breadability-0.1.20.tar.gz (32 kB)\n",
            "  Preparing metadata (setup.py) ... \u001b[?25l\u001b[?25hdone\n",
            "Requirement already satisfied: requests>=2.7.0 in /usr/local/lib/python3.11/dist-packages (from sumy) (2.32.3)\n",
            "Collecting pycountry>=18.2.23 (from sumy)\n",
            "  Downloading pycountry-24.6.1-py3-none-any.whl.metadata (12 kB)\n",
            "Requirement already satisfied: nltk>=3.0.2 in /usr/local/lib/python3.11/dist-packages (from sumy) (3.9.1)\n",
            "Requirement already satisfied: chardet in /usr/local/lib/python3.11/dist-packages (from breadability>=0.1.20->sumy) (5.2.0)\n",
            "Requirement already satisfied: lxml>=2.0 in /usr/local/lib/python3.11/dist-packages (from breadability>=0.1.20->sumy) (5.3.1)\n",
            "Requirement already satisfied: click in /usr/local/lib/python3.11/dist-packages (from nltk>=3.0.2->sumy) (8.1.8)\n",
            "Requirement already satisfied: joblib in /usr/local/lib/python3.11/dist-packages (from nltk>=3.0.2->sumy) (1.4.2)\n",
            "Requirement already satisfied: regex>=2021.8.3 in /usr/local/lib/python3.11/dist-packages (from nltk>=3.0.2->sumy) (2024.11.6)\n",
            "Requirement already satisfied: tqdm in /usr/local/lib/python3.11/dist-packages (from nltk>=3.0.2->sumy) (4.67.1)\n",
            "Requirement already satisfied: charset-normalizer<4,>=2 in /usr/local/lib/python3.11/dist-packages (from requests>=2.7.0->sumy) (3.4.1)\n",
            "Requirement already satisfied: idna<4,>=2.5 in /usr/local/lib/python3.11/dist-packages (from requests>=2.7.0->sumy) (3.10)\n",
            "Requirement already satisfied: urllib3<3,>=1.21.1 in /usr/local/lib/python3.11/dist-packages (from requests>=2.7.0->sumy) (2.3.0)\n",
            "Requirement already satisfied: certifi>=2017.4.17 in /usr/local/lib/python3.11/dist-packages (from requests>=2.7.0->sumy) (2025.1.31)\n",
            "Downloading sumy-0.11.0-py2.py3-none-any.whl (97 kB)\n",
            "\u001b[2K   \u001b[90m━━━━━━━━━━━━━━━━━━━━━━━━━━━━━━━━━━━━━━━━\u001b[0m \u001b[32m97.3/97.3 kB\u001b[0m \u001b[31m6.5 MB/s\u001b[0m eta \u001b[36m0:00:00\u001b[0m\n",
            "\u001b[?25hDownloading pycountry-24.6.1-py3-none-any.whl (6.3 MB)\n",
            "\u001b[2K   \u001b[90m━━━━━━━━━━━━━━━━━━━━━━━━━━━━━━━━━━━━━━━━\u001b[0m \u001b[32m6.3/6.3 MB\u001b[0m \u001b[31m46.7 MB/s\u001b[0m eta \u001b[36m0:00:00\u001b[0m\n",
            "\u001b[?25hBuilding wheels for collected packages: breadability, docopt\n",
            "  Building wheel for breadability (setup.py) ... \u001b[?25l\u001b[?25hdone\n",
            "  Created wheel for breadability: filename=breadability-0.1.20-py2.py3-none-any.whl size=21691 sha256=48f5ec932918bbe26924ffbdf6bd386c1ca37d68949c91e7f857388accc788f2\n",
            "  Stored in directory: /root/.cache/pip/wheels/4d/57/58/7e3d7fedf51fe248b7fcee3df6945ae28638e22cddf01eb92b\n",
            "  Building wheel for docopt (setup.py) ... \u001b[?25l\u001b[?25hdone\n",
            "  Created wheel for docopt: filename=docopt-0.6.2-py2.py3-none-any.whl size=13706 sha256=b9d0d064eb99554fb2cacff9cb6e09880970fc3cc698fe5c8c88b7f35b097411\n",
            "  Stored in directory: /root/.cache/pip/wheels/1a/b0/8c/4b75c4116c31f83c8f9f047231251e13cc74481cca4a78a9ce\n",
            "Successfully built breadability docopt\n",
            "Installing collected packages: docopt, pycountry, breadability, sumy\n",
            "Successfully installed breadability-0.1.20 docopt-0.6.2 pycountry-24.6.1 sumy-0.11.0\n"
          ]
        }
      ]
    },
    {
      "cell_type": "code",
      "source": [
        "import nltk\n",
        "nltk.download('punkt_tab')\n",
        "from sumy.parsers.plaintext import PlaintextParser\n",
        "from sumy.nlp.tokenizers import Tokenizer\n",
        "from sumy.summarizers.text_rank import TextRankSummarizer\n",
        "from sumy.summarizers.lex_rank import LexRankSummarizer\n",
        "from transformers import T5Tokenizer, T5ForConditionalGeneration, BartTokenizer, BartForConditionalGeneration\n",
        "import torch\n",
        "import random\n",
        "\n",
        "def extractive_summaries(text, num_sentences_list=[2, 3, 4, 5]):\n",
        "    parser = PlaintextParser.from_string(text, Tokenizer(\"english\"))\n",
        "    summarizers = {\n",
        "        \"TextRank\": TextRankSummarizer(),\n",
        "        \"LexRank\": LexRankSummarizer()\n",
        "    }\n",
        "    summaries = {}\n",
        "    for name, summarizer in summarizers.items():\n",
        "        for num_sentences in num_sentences_list:\n",
        "            key = f\"{name} ({num_sentences} sentences)\"\n",
        "            summary = summarizer(parser.document, num_sentences)\n",
        "            sentences = [str(sentence) for sentence in summary]\n",
        "            random.shuffle(sentences)  # Shuffle to create variations\n",
        "            summaries[key] = \" \".join(sentences)\n",
        "    return summaries\n",
        "\n",
        "def abstractive_summaries(text, max_length=100, min_length=30, num_variants=5):\n",
        "    models = {\n",
        "        \"T5\": (\"t5-small\", T5Tokenizer, T5ForConditionalGeneration),\n",
        "        \"BART\": (\"facebook/bart-large-cnn\", BartTokenizer, BartForConditionalGeneration)\n",
        "    }\n",
        "    summaries = {}\n",
        "    for model_name, (model_path, tokenizer_class, model_class) in models.items():\n",
        "        tokenizer = tokenizer_class.from_pretrained(model_path)\n",
        "        model = model_class.from_pretrained(model_path)\n",
        "        input_text = \"summarize: \" + text if model_name == \"T5\" else text\n",
        "        inputs = tokenizer.encode(input_text, return_tensors=\"pt\", max_length=512, truncation=True)\n",
        "        model_summaries = []\n",
        "        for _ in range(num_variants):\n",
        "            summary_ids = model.generate(\n",
        "                inputs, max_length=max_length, min_length=min_length, length_penalty=random.uniform(1.5, 2.5),\n",
        "                num_beams=random.choice([4, 6, 8]), top_k=random.choice([30, 50, 70]),\n",
        "                top_p=random.uniform(0.8, 0.98), temperature=random.uniform(0.6, 1.0),\n",
        "                do_sample=True, early_stopping=True\n",
        "            )\n",
        "            model_summaries.append(tokenizer.decode(summary_ids[0], skip_special_tokens=True))\n",
        "        summaries[model_name] = model_summaries\n",
        "    return summaries\n",
        "\n",
        "# Example Usage\n",
        "if __name__ == \"__main__\":\n",
        "    text = input(\"Enter text to summarize:\")\n",
        "\n",
        "    print(\"Extractive Summaries:\")\n",
        "    for key, summary in extractive_summaries(text).items():\n",
        "        print(f\"{key}: {summary}\\n\")\n",
        "\n",
        "    print(\"\\nAbstractive Summaries:\")\n",
        "    abstractive = abstractive_summaries(text)\n",
        "    for model, summaries in abstractive.items():\n",
        "        for i, summary in enumerate(summaries, 1):\n",
        "            print(f\"{model} Variant {i}: {summary}\\n\")\n"
      ],
      "metadata": {
        "colab": {
          "base_uri": "https://localhost:8080/"
        },
        "id": "0EX5n6hfhgva",
        "outputId": "aee389ea-2a46-4245-db85-a04b45a8a12a"
      },
      "execution_count": 4,
      "outputs": [
        {
          "output_type": "stream",
          "name": "stderr",
          "text": [
            "[nltk_data] Downloading package punkt_tab to /root/nltk_data...\n",
            "[nltk_data]   Package punkt_tab is already up-to-date!\n"
          ]
        },
        {
          "output_type": "stream",
          "name": "stdout",
          "text": [
            "Enter text to summarize:There was once a boy who grew up in a wealthy family. His father took him on a trip to show how less fortunate people lived. They stayed on a poor family’s farm, helping with their work. Afterward, the father asked his son what he learned. Surprisingly, the boy said the poor family was lucky. He compared their simple yet fulfilling life to his own, noting their abundance in companionship, nature, and self-sufficiency. The boy realized that wealth is not just about money but also about happiness, relationships, and freedom.\n",
            "Extractive Summaries:\n",
            "TextRank (2 sentences): He compared their simple yet fulfilling life to his own, noting their abundance in companionship, nature, and self-sufficiency. There was once a boy who grew up in a wealthy family.\n",
            "\n",
            "TextRank (3 sentences): He compared their simple yet fulfilling life to his own, noting their abundance in companionship, nature, and self-sufficiency. There was once a boy who grew up in a wealthy family. Surprisingly, the boy said the poor family was lucky.\n",
            "\n",
            "TextRank (4 sentences): There was once a boy who grew up in a wealthy family. He compared their simple yet fulfilling life to his own, noting their abundance in companionship, nature, and self-sufficiency. Surprisingly, the boy said the poor family was lucky. The boy realized that wealth is not just about money but also about happiness, relationships, and freedom.\n",
            "\n",
            "TextRank (5 sentences): He compared their simple yet fulfilling life to his own, noting their abundance in companionship, nature, and self-sufficiency. The boy realized that wealth is not just about money but also about happiness, relationships, and freedom. His father took him on a trip to show how less fortunate people lived. Surprisingly, the boy said the poor family was lucky. There was once a boy who grew up in a wealthy family.\n",
            "\n",
            "LexRank (2 sentences): There was once a boy who grew up in a wealthy family. His father took him on a trip to show how less fortunate people lived.\n",
            "\n",
            "LexRank (3 sentences): There was once a boy who grew up in a wealthy family. They stayed on a poor family’s farm, helping with their work. His father took him on a trip to show how less fortunate people lived.\n",
            "\n",
            "LexRank (4 sentences): Afterward, the father asked his son what he learned. They stayed on a poor family’s farm, helping with their work. His father took him on a trip to show how less fortunate people lived. There was once a boy who grew up in a wealthy family.\n",
            "\n",
            "LexRank (5 sentences): Afterward, the father asked his son what he learned. Surprisingly, the boy said the poor family was lucky. His father took him on a trip to show how less fortunate people lived. They stayed on a poor family’s farm, helping with their work. There was once a boy who grew up in a wealthy family.\n",
            "\n",
            "\n",
            "Abstractive Summaries:\n",
            "T5 Variant 1: father took him on a trip to show how less fortunate people lived. he compared their simple yet fulfilling life to his own. the boy realized wealth is not just about money but also about happiness.\n",
            "\n",
            "T5 Variant 2: father took him on a trip to show how less fortunate people lived. he compared their simple yet fulfilling life to his own. the boy realized wealth is not just about money but also about happiness, relationships, and freedom.\n",
            "\n",
            "T5 Variant 3: father took him on a trip to show how less fortunate people lived. he compared their simple yet fulfilling life to his own. the boy realized wealth is not just about money but also about happiness.\n",
            "\n",
            "T5 Variant 4: his father took him on a trip to show how less fortunate people lived. he compared their simple yet fulfilling life to his own. the boy realized wealth is not just about money but also about happiness.\n",
            "\n",
            "T5 Variant 5: the father took him on a trip to show how less fortunate people lived. he compared their simple yet fulfilling life to his own. the boy realized wealth is not just about money but also about happiness.\n",
            "\n",
            "BART Variant 1: A boy grew up in a wealthy family. His father took him on a trip to show how less fortunate people lived. The boy realized wealth is not just about money but also about happiness, relationships, and freedom.\n",
            "\n",
            "BART Variant 2: A boy grew up in a wealthy family. His father took him on a trip to show how less fortunate people lived. The boy realized that wealth is not just about money but also about happiness.\n",
            "\n",
            "BART Variant 3: A boy grew up in a wealthy family. His father took him on a trip to show how less fortunate people lived. Surprisingly, the boy said the poor family was lucky.\n",
            "\n",
            "BART Variant 4: A boy grew up in a wealthy family. His father took him on a trip to show how less fortunate people lived. The boy realized that wealth is not just about money but also about happiness.\n",
            "\n",
            "BART Variant 5: A boy grew up in a wealthy family. His father took him on a trip to show how less fortunate people lived. Surprisingly, the boy said the poor family was lucky.\n",
            "\n"
          ]
        }
      ]
    },
    {
      "cell_type": "code",
      "source": [],
      "metadata": {
        "id": "Jq3NuFLgtoMD"
      },
      "execution_count": null,
      "outputs": []
    }
  ]
}